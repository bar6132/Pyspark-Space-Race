{
 "cells": [
  {
   "cell_type": "code",
   "execution_count": 166,
   "id": "30df6705-918a-451a-83ac-17d5699bdb5e",
   "metadata": {},
   "outputs": [],
   "source": [
    "from pyspark.sql import SparkSession\n",
    "from pyspark.sql.functions import year, count, col, desc, to_timestamp, avg , month, to_date\n",
    "from pyspark.sql.types import StringType\n",
    "from datetime import datetime"
   ]
  },
  {
   "cell_type": "code",
   "execution_count": 167,
   "id": "e03e0017-7ce0-45b5-ae1b-cefa8c551142",
   "metadata": {},
   "outputs": [],
   "source": [
    "spark = SparkSession.builder.appName(\"SpaceMissions\").config(\"spark.sql.legacy.timeParserPolicy\", \"LEGACY\").getOrCreate()"
   ]
  },
  {
   "cell_type": "code",
   "execution_count": 168,
   "id": "91362d95-689f-40be-ace8-540011ae589f",
   "metadata": {},
   "outputs": [],
   "source": [
    "df=spark.read.option('header','true').csv('mission_launches.csv',inferSchema=True)"
   ]
  },
  {
   "cell_type": "code",
   "execution_count": 169,
   "id": "3321a5b7-4905-4dad-8543-366859dbe135",
   "metadata": {},
   "outputs": [],
   "source": [
    "df = df.withColumn(\"Date\", to_timestamp(df[\"Date\"], \"EEE MMM dd, yyyy HH:mm 'UTC'\"))"
   ]
  },
  {
   "cell_type": "code",
   "execution_count": 170,
   "id": "1fa5016c-d9b0-4baf-996b-b7405be2e758",
   "metadata": {},
   "outputs": [],
   "source": [
    "df = df.withColumn(\"Month\", month(df[\"Date\"]))"
   ]
  },
  {
   "cell_type": "code",
   "execution_count": 171,
   "id": "dbf970a7-aa02-4455-8c5d-0ede4ceabefa",
   "metadata": {},
   "outputs": [],
   "source": [
    "df = df.filter(df[\"Month\"].isNotNull())"
   ]
  },
  {
   "cell_type": "code",
   "execution_count": 172,
   "id": "733797fe-9c5c-4ad5-aa85-8bf26b8fd835",
   "metadata": {},
   "outputs": [],
   "source": [
    "launches_by_month = df.groupBy(\"Month\").count()"
   ]
  },
  {
   "cell_type": "code",
   "execution_count": 173,
   "id": "b6ce9459-8bfe-4c33-b036-9219f44466f1",
   "metadata": {},
   "outputs": [],
   "source": [
    "sorted_launches_by_month = launches_by_month.orderBy(\"Month\")"
   ]
  },
  {
   "cell_type": "code",
   "execution_count": 174,
   "id": "28f3a391-3d04-43fd-8101-b7b6ce68d229",
   "metadata": {},
   "outputs": [
    {
     "name": "stdout",
     "output_type": "stream",
     "text": [
      "+-----+-----+\n",
      "|Month|count|\n",
      "+-----+-----+\n",
      "|   12|  430|\n",
      "|    6|  386|\n",
      "|   10|  375|\n",
      "|    4|  366|\n",
      "|    8|  358|\n",
      "|    9|  354|\n",
      "|    3|  347|\n",
      "|    7|  347|\n",
      "|   11|  325|\n",
      "|    2|  323|\n",
      "|    5|  320|\n",
      "|    1|  265|\n",
      "| NULL|  128|\n",
      "+-----+-----+\n",
      "\n"
     ]
    }
   ],
   "source": [
    "popular_months.show()"
   ]
  },
  {
   "cell_type": "code",
   "execution_count": null,
   "id": "5434f192-e742-4c2d-9c27-1624cc92c06d",
   "metadata": {},
   "outputs": [],
   "source": []
  },
  {
   "cell_type": "code",
   "execution_count": null,
   "id": "78fe3199-bf99-4542-b63d-6a20af7c9bce",
   "metadata": {},
   "outputs": [],
   "source": []
  },
  {
   "cell_type": "code",
   "execution_count": null,
   "id": "ce2df98e-e098-465e-861e-56987ca69848",
   "metadata": {},
   "outputs": [],
   "source": []
  }
 ],
 "metadata": {
  "kernelspec": {
   "display_name": "Python 3 (ipykernel)",
   "language": "python",
   "name": "python3"
  },
  "language_info": {
   "codemirror_mode": {
    "name": "ipython",
    "version": 3
   },
   "file_extension": ".py",
   "mimetype": "text/x-python",
   "name": "python",
   "nbconvert_exporter": "python",
   "pygments_lexer": "ipython3",
   "version": "3.11.4"
  },
  "widgets": {
   "application/vnd.jupyter.widget-state+json": {
    "state": {},
    "version_major": 2,
    "version_minor": 0
   }
  }
 },
 "nbformat": 4,
 "nbformat_minor": 5
}
