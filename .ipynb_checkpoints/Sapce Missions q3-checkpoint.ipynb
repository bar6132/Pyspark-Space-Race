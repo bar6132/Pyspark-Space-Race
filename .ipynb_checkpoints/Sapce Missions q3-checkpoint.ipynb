{
 "cells": [
  {
   "cell_type": "code",
   "execution_count": 43,
   "id": "88493884-3905-4de6-9b04-22634f7cba7a",
   "metadata": {},
   "outputs": [],
   "source": [
    "from pyspark.sql import SparkSession\n",
    "from pyspark.sql.functions import year, count, col, desc, to_timestamp, avg , month, to_date, when\n",
    "from pyspark.sql.types import StringType\n",
    "from datetime import datetime"
   ]
  },
  {
   "cell_type": "code",
   "execution_count": 85,
   "id": "e5b18557-d388-4601-a49d-4ff0f33090c1",
   "metadata": {},
   "outputs": [],
   "source": [
    "spark = SparkSession.builder.appName(\"SpaceMissions\").config(\"spark.sql.legacy.timeParserPolicy\", \"LEGACY\").getOrCreate()"
   ]
  },
  {
   "cell_type": "code",
   "execution_count": 86,
   "id": "60359ed6-5bab-4bc1-880d-c9af996d93aa",
   "metadata": {},
   "outputs": [],
   "source": [
    "df=spark.read.option('header','true').csv('mission_launches.csv',inferSchema=True)"
   ]
  },
  {
   "cell_type": "code",
   "execution_count": 87,
   "id": "8e713b13-ba51-4977-b53b-4cd3149f853f",
   "metadata": {},
   "outputs": [],
   "source": [
    "df = df.withColumn(\"ParsedDate\", to_timestamp(df[\"Date\"], \"EEE MMM dd, yyyy HH:mm z\")) \\\n",
    "       .withColumn(\"Year\", year(\"ParsedDate\")) \\\n",
    "       .drop(\"ParsedDate\")\n"
   ]
  },
  {
   "cell_type": "code",
   "execution_count": 88,
   "id": "b48019cf-dc25-4118-8e9b-ae78af4459e6",
   "metadata": {},
   "outputs": [],
   "source": [
    "df = df.filter((col(\"Year\").isNotNull()) & (col(\"Year\") != 0))"
   ]
  },
  {
   "cell_type": "code",
   "execution_count": 95,
   "id": "cb226e07-8342-416b-8a05-7067f36624d4",
   "metadata": {},
   "outputs": [
    {
     "name": "stdout",
     "output_type": "stream",
     "text": [
      "+----+-----+\n",
      "|Year|count|\n",
      "+----+-----+\n",
      "|1957|1    |\n",
      "|1958|16   |\n",
      "|1959|12   |\n",
      "|1960|19   |\n",
      "|1961|20   |\n",
      "|1962|16   |\n",
      "|1963|9    |\n",
      "|1964|9    |\n",
      "|1965|12   |\n",
      "|1966|16   |\n",
      "|1967|16   |\n",
      "|1968|9    |\n",
      "|1969|16   |\n",
      "|1970|14   |\n",
      "|1971|14   |\n",
      "|1972|10   |\n",
      "|1973|5    |\n",
      "|1974|8    |\n",
      "|1975|6    |\n",
      "|1976|5    |\n",
      "+----+-----+\n",
      "only showing top 20 rows\n",
      "\n"
     ]
    }
   ],
   "source": [
    "failure_df = df.filter((df[\"Mission_Status\"] == \"Failure\") | (df[\"Mission_Status\"] == \"Partial Failure\"))\n",
    "failure_counts_per_year = failure_df.groupBy(\"Year\").count().orderBy(\"Year\")\n",
    "failure_counts_per_year.show(truncate=False)"
   ]
  },
  {
   "cell_type": "code",
   "execution_count": 102,
   "id": "0aba60a0-a9e0-4fbe-b26a-8cbdb0a2b6fd",
   "metadata": {},
   "outputs": [
    {
     "name": "stdout",
     "output_type": "stream",
     "text": [
      "Average failure rate for years before 2000: 7.681818181818182\n",
      "Average failure rate for years after 2000: 3.2\n"
     ]
    }
   ],
   "source": [
    "\n",
    "# Filter success counts per year into two groups: before 2000 and after\n",
    "before_2000_df = failure_counts_per_year.filter(col(\"Year\") <= 2000)\n",
    "after_2000_df = failure_counts_per_year.filter(col(\"Year\") > 2000)\n",
    "\n",
    "# Calculate the average success rate for each group\n",
    "before_2000_avg_failure_rate = before_2000_df.select(avg(\"count\")).collect()[0][0]\n",
    "after_2000_avg_failure_rate = after_2000_df.select(avg(\"count\")).collect()[0][0]\n",
    "\n",
    "# Display the results\n",
    "print(\"Average failure rate for years before 2000:\", before_2000_avg_failure_rate)\n",
    "print(\"Average failure rate for years after 2000:\", after_2000_avg_failure_rate)"
   ]
  },
  {
   "cell_type": "code",
   "execution_count": 98,
   "id": "06bf30e0-5c4f-4e57-8d8c-8b61a8fe6c57",
   "metadata": {},
   "outputs": [
    {
     "name": "stdout",
     "output_type": "stream",
     "text": [
      "+----+-----+\n",
      "|Year|count|\n",
      "+----+-----+\n",
      "|1957|2    |\n",
      "|1958|6    |\n",
      "|1959|8    |\n",
      "|1960|19   |\n",
      "|1961|32   |\n",
      "|1962|65   |\n",
      "|1963|29   |\n",
      "|1964|47   |\n",
      "|1965|74   |\n",
      "|1966|81   |\n",
      "|1967|86   |\n",
      "|1968|91   |\n",
      "|1969|85   |\n",
      "|1970|92   |\n",
      "|1971|102  |\n",
      "|1972|86   |\n",
      "|1973|94   |\n",
      "|1974|89   |\n",
      "|1975|106  |\n",
      "|1976|104  |\n",
      "+----+-----+\n",
      "only showing top 20 rows\n",
      "\n"
     ]
    }
   ],
   "source": [
    "success_df = df.filter(df[\"Mission_Status\"] == \"Success\")\n",
    "success_counts_per_year = success_df.groupBy(\"Year\").count().orderBy(\"Year\")\n",
    "success_counts_per_year.show(truncate=False)\n"
   ]
  },
  {
   "cell_type": "code",
   "execution_count": 101,
   "id": "d05456f9-663b-4d4c-b123-0ac46cda856f",
   "metadata": {},
   "outputs": [
    {
     "name": "stdout",
     "output_type": "stream",
     "text": [
      "Average success rate for years before 2000: 62.09090909090909\n",
      "Average success rate for years after 2000: 53.1\n"
     ]
    }
   ],
   "source": [
    "\n",
    "# Filter success counts per year into two groups: before 2000 and after\n",
    "before_2000_df = success_counts_per_year.filter(col(\"Year\") <= 2000)\n",
    "after_2000_df = success_counts_per_year.filter(col(\"Year\") > 2000)\n",
    "\n",
    "# Calculate the average success rate for each group\n",
    "before_2000_avg_success_rate = before_2000_df.select(avg(\"count\")).collect()[0][0]\n",
    "after_2000_avg_success_rate = after_2000_df.select(avg(\"count\")).collect()[0][0]\n",
    "\n",
    "# Display the results\n",
    "print(\"Average success rate for years before 2000:\", before_2000_avg_success_rate)\n",
    "print(\"Average success rate for years after 2000:\", after_2000_avg_success_rate)"
   ]
  },
  {
   "cell_type": "code",
   "execution_count": null,
   "id": "6f3bf6d5-4671-4f6c-ab36-80afe3605a7b",
   "metadata": {},
   "outputs": [],
   "source": []
  }
 ],
 "metadata": {
  "kernelspec": {
   "display_name": "Python 3 (ipykernel)",
   "language": "python",
   "name": "python3"
  },
  "language_info": {
   "codemirror_mode": {
    "name": "ipython",
    "version": 3
   },
   "file_extension": ".py",
   "mimetype": "text/x-python",
   "name": "python",
   "nbconvert_exporter": "python",
   "pygments_lexer": "ipython3",
   "version": "3.11.4"
  },
  "widgets": {
   "application/vnd.jupyter.widget-state+json": {
    "state": {},
    "version_major": 2,
    "version_minor": 0
   }
  }
 },
 "nbformat": 4,
 "nbformat_minor": 5
}
