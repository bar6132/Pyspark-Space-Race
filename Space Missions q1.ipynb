{
 "cells": [
  {
   "cell_type": "code",
   "execution_count": 104,
   "id": "a72c7495-30ce-464d-934c-b4f0bcba9220",
   "metadata": {},
   "outputs": [],
   "source": [
    "from pyspark.sql import SparkSession\n",
    "from pyspark.sql.functions import year, count, col, desc, to_timestamp\n",
    "from pyspark.sql.types import StringType\n",
    "from datetime import datetime"
   ]
  },
  {
   "cell_type": "code",
   "execution_count": 105,
   "id": "241770d0-162a-4a45-8e13-12e9b8820ac0",
   "metadata": {},
   "outputs": [],
   "source": [
    "spark = SparkSession.builder.appName(\"SpaceMissions\").config(\"spark.sql.legacy.timeParserPolicy\", \"LEGACY\").getOrCreate()"
   ]
  },
  {
   "cell_type": "code",
   "execution_count": 106,
   "id": "ea05af52-c276-4141-9e4d-5ba4e04c333e",
   "metadata": {},
   "outputs": [],
   "source": [
    "df=spark.read.option('header','true').csv('mission_launches.csv',inferSchema=True)"
   ]
  },
  {
   "cell_type": "code",
   "execution_count": 107,
   "id": "66a296c6-a75c-47c2-8d89-41ed75b6ca19",
   "metadata": {},
   "outputs": [],
   "source": [
    "df = df.withColumn(\"ParsedDate\", to_timestamp(df[\"Date\"], \"EEE MMM dd, yyyy HH:mm z\")) \\\n",
    "       .withColumn(\"Year\", year(\"ParsedDate\")) \\\n",
    "       .drop(\"ParsedDate\")\n"
   ]
  },
  {
   "cell_type": "code",
   "execution_count": 108,
   "id": "1c115785-37e9-4bbe-9ea4-b5ee250e4e56",
   "metadata": {},
   "outputs": [],
   "source": [
    "df = df.filter((col(\"Year\").isNotNull()) & (col(\"Year\") != 0))"
   ]
  },
  {
   "cell_type": "code",
   "execution_count": 118,
   "id": "087a171b-e7b2-4e3f-8e14-e18434e4a792",
   "metadata": {},
   "outputs": [],
   "source": [
    "most_missions_per_year = df.groupBy(\"Year\", \"Organisation\") \\\n",
    "                            .agg(count(\"*\").alias(\"MissionCount\")) \\\n",
    "                            .orderBy(desc(\"MissionCount\"), \"Year\")\n"
   ]
  },
  {
   "cell_type": "code",
   "execution_count": 119,
   "id": "455d0930-d949-4d06-9546-a969cf75b51f",
   "metadata": {},
   "outputs": [
    {
     "name": "stdout",
     "output_type": "stream",
     "text": [
      "+----+------------+------------+\n",
      "|Year|Organisation|MissionCount|\n",
      "+----+------------+------------+\n",
      "|1976|RVSN USSR   |93          |\n",
      "|1977|RVSN USSR   |92          |\n",
      "|1971|RVSN USSR   |90          |\n",
      "|1975|RVSN USSR   |88          |\n",
      "|1970|RVSN USSR   |86          |\n",
      "|1969|RVSN USSR   |82          |\n",
      "|1974|RVSN USSR   |82          |\n",
      "|1973|RVSN USSR   |81          |\n",
      "|1968|RVSN USSR   |77          |\n",
      "|1972|RVSN USSR   |76          |\n",
      "|1967|RVSN USSR   |73          |\n",
      "|1978|RVSN USSR   |68          |\n",
      "|1982|RVSN USSR   |53          |\n",
      "|1965|RVSN USSR   |52          |\n",
      "|1966|RVSN USSR   |50          |\n",
      "|1985|RVSN USSR   |49          |\n",
      "|1986|RVSN USSR   |48          |\n",
      "|1981|RVSN USSR   |46          |\n",
      "|1983|RVSN USSR   |44          |\n",
      "|1962|US Air Force|40          |\n",
      "+----+------------+------------+\n",
      "only showing top 20 rows\n",
      "\n"
     ]
    }
   ],
   "source": [
    "most_missions_per_year.show(truncate=False)"
   ]
  },
  {
   "cell_type": "code",
   "execution_count": 120,
   "id": "4e80a1ca-5f66-49e5-8855-9fb5ceb57d68",
   "metadata": {},
   "outputs": [],
   "source": [
    "most_missions_per_year = df.groupBy(\"Year\", \"Organisation\") \\\n",
    "                            .agg(count(\"*\").alias(\"MissionCount\")) \\\n",
    "                            .orderBy(desc(\"MissionCount\"), \"Year\") \\\n",
    "                            .dropDuplicates([\"Year\"]) \\\n",
    "                            .select(\"Year\", \"Organisation\", \"MissionCount\")\n"
   ]
  },
  {
   "cell_type": "code",
   "execution_count": 121,
   "id": "d5bc104b-7395-4ce7-ac68-2c09d2ced350",
   "metadata": {},
   "outputs": [
    {
     "name": "stdout",
     "output_type": "stream",
     "text": [
      "+----+------------+------------+\n",
      "|Year|Organisation|MissionCount|\n",
      "+----+------------+------------+\n",
      "|1957|RVSN USSR   |2           |\n",
      "|1958|AMBA        |7           |\n",
      "|1959|US Air Force|10          |\n",
      "|1960|US Air Force|21          |\n",
      "|1961|US Air Force|23          |\n",
      "|1962|US Air Force|40          |\n",
      "|1963|RVSN USSR   |23          |\n",
      "|1964|RVSN USSR   |33          |\n",
      "|1965|RVSN USSR   |52          |\n",
      "|1966|RVSN USSR   |50          |\n",
      "|1967|RVSN USSR   |73          |\n",
      "|1968|RVSN USSR   |77          |\n",
      "|1969|RVSN USSR   |82          |\n",
      "|1970|RVSN USSR   |86          |\n",
      "|1971|RVSN USSR   |90          |\n",
      "|1972|RVSN USSR   |76          |\n",
      "|1973|RVSN USSR   |81          |\n",
      "|1974|RVSN USSR   |82          |\n",
      "|1975|RVSN USSR   |88          |\n",
      "|1976|RVSN USSR   |93          |\n",
      "+----+------------+------------+\n",
      "only showing top 20 rows\n",
      "\n"
     ]
    }
   ],
   "source": [
    "most_missions_per_year.show(truncate=False)"
   ]
  },
  {
   "cell_type": "code",
   "execution_count": null,
   "id": "77e019a8-4405-4614-8bf9-138f6739366b",
   "metadata": {},
   "outputs": [],
   "source": []
  }
 ],
 "metadata": {
  "kernelspec": {
   "display_name": "Python 3 (ipykernel)",
   "language": "python",
   "name": "python3"
  },
  "language_info": {
   "codemirror_mode": {
    "name": "ipython",
    "version": 3
   },
   "file_extension": ".py",
   "mimetype": "text/x-python",
   "name": "python",
   "nbconvert_exporter": "python",
   "pygments_lexer": "ipython3",
   "version": "3.11.4"
  },
  "widgets": {
   "application/vnd.jupyter.widget-state+json": {
    "state": {},
    "version_major": 2,
    "version_minor": 0
   }
  }
 },
 "nbformat": 4,
 "nbformat_minor": 5
}
